{
 "cells": [
  {
   "cell_type": "code",
   "execution_count": 1,
   "id": "dbee633a",
   "metadata": {
    "execution": {
     "iopub.execute_input": "2023-07-30T10:14:30.257761Z",
     "iopub.status.busy": "2023-07-30T10:14:30.256506Z",
     "iopub.status.idle": "2023-07-30T10:14:31.667921Z",
     "shell.execute_reply": "2023-07-30T10:14:31.667045Z"
    },
    "papermill": {
     "duration": 1.420117,
     "end_time": "2023-07-30T10:14:31.670367",
     "exception": false,
     "start_time": "2023-07-30T10:14:30.250250",
     "status": "completed"
    },
    "tags": []
   },
   "outputs": [
    {
     "name": "stderr",
     "output_type": "stream",
     "text": [
      "/opt/conda/lib/python3.10/site-packages/scipy/__init__.py:146: UserWarning: A NumPy version >=1.16.5 and <1.23.0 is required for this version of SciPy (detected version 1.23.5\n",
      "  warnings.warn(f\"A NumPy version >={np_minversion} and <{np_maxversion}\"\n"
     ]
    }
   ],
   "source": [
    "import matplotlib.pyplot as plt\n",
    "import pandas as pd\n",
    "from sklearn.linear_model import LinearRegression\n",
    "from sklearn.metrics import mean_absolute_error"
   ]
  },
  {
   "cell_type": "code",
   "execution_count": 2,
   "id": "a1521ee9",
   "metadata": {
    "execution": {
     "iopub.execute_input": "2023-07-30T10:14:31.682021Z",
     "iopub.status.busy": "2023-07-30T10:14:31.681085Z",
     "iopub.status.idle": "2023-07-30T10:14:32.312650Z",
     "shell.execute_reply": "2023-07-30T10:14:32.311435Z"
    },
    "papermill": {
     "duration": 0.639703,
     "end_time": "2023-07-30T10:14:32.314805",
     "exception": false,
     "start_time": "2023-07-30T10:14:31.675102",
     "status": "completed"
    },
    "tags": []
   },
   "outputs": [
    {
     "data": {
      "text/html": [
       "<div>\n",
       "<style scoped>\n",
       "    .dataframe tbody tr th:only-of-type {\n",
       "        vertical-align: middle;\n",
       "    }\n",
       "\n",
       "    .dataframe tbody tr th {\n",
       "        vertical-align: top;\n",
       "    }\n",
       "\n",
       "    .dataframe thead th {\n",
       "        text-align: right;\n",
       "    }\n",
       "</style>\n",
       "<table border=\"1\" class=\"dataframe\">\n",
       "  <thead>\n",
       "    <tr style=\"text-align: right;\">\n",
       "      <th></th>\n",
       "      <th>Student ID</th>\n",
       "      <th>Student Name</th>\n",
       "      <th>Date of Birth</th>\n",
       "      <th>Field of Study</th>\n",
       "      <th>Year of Admission</th>\n",
       "      <th>Expected Year of Graduation</th>\n",
       "      <th>Current Semester</th>\n",
       "      <th>Specialization</th>\n",
       "      <th>Fees</th>\n",
       "      <th>Discount on Fees</th>\n",
       "    </tr>\n",
       "  </thead>\n",
       "  <tbody>\n",
       "    <tr>\n",
       "      <th>0</th>\n",
       "      <td>165527</td>\n",
       "      <td>Bryan Rogers</td>\n",
       "      <td>1/19/2006</td>\n",
       "      <td>Computer Science</td>\n",
       "      <td>2020</td>\n",
       "      <td>2017</td>\n",
       "      <td>3</td>\n",
       "      <td>Web Development</td>\n",
       "      <td>155152</td>\n",
       "      <td>19572</td>\n",
       "    </tr>\n",
       "    <tr>\n",
       "      <th>1</th>\n",
       "      <td>635763</td>\n",
       "      <td>James Hogan</td>\n",
       "      <td>5/23/1999</td>\n",
       "      <td>Mechanical Engineering</td>\n",
       "      <td>2020</td>\n",
       "      <td>2020</td>\n",
       "      <td>2</td>\n",
       "      <td>Machine Learning</td>\n",
       "      <td>157870</td>\n",
       "      <td>14760</td>\n",
       "    </tr>\n",
       "    <tr>\n",
       "      <th>2</th>\n",
       "      <td>740021</td>\n",
       "      <td>David Robinson</td>\n",
       "      <td>12/2/1997</td>\n",
       "      <td>Civil Engineering</td>\n",
       "      <td>2017</td>\n",
       "      <td>2022</td>\n",
       "      <td>1</td>\n",
       "      <td>Network Security</td>\n",
       "      <td>55662</td>\n",
       "      <td>5871</td>\n",
       "    </tr>\n",
       "    <tr>\n",
       "      <th>3</th>\n",
       "      <td>433076</td>\n",
       "      <td>Susan Miller</td>\n",
       "      <td>10/30/1999</td>\n",
       "      <td>Computer Science</td>\n",
       "      <td>2021</td>\n",
       "      <td>2019</td>\n",
       "      <td>1</td>\n",
       "      <td>Data Science</td>\n",
       "      <td>134955</td>\n",
       "      <td>17284</td>\n",
       "    </tr>\n",
       "    <tr>\n",
       "      <th>4</th>\n",
       "      <td>441628</td>\n",
       "      <td>Brittany Martin</td>\n",
       "      <td>1/10/1998</td>\n",
       "      <td>Chemical Engineering</td>\n",
       "      <td>2016</td>\n",
       "      <td>2018</td>\n",
       "      <td>1</td>\n",
       "      <td>Network Security</td>\n",
       "      <td>125934</td>\n",
       "      <td>14871</td>\n",
       "    </tr>\n",
       "  </tbody>\n",
       "</table>\n",
       "</div>"
      ],
      "text/plain": [
       "   Student ID     Student Name Date of Birth          Field of Study  \\\n",
       "0      165527     Bryan Rogers     1/19/2006        Computer Science   \n",
       "1      635763      James Hogan     5/23/1999  Mechanical Engineering   \n",
       "2      740021   David Robinson     12/2/1997       Civil Engineering   \n",
       "3      433076     Susan Miller    10/30/1999        Computer Science   \n",
       "4      441628  Brittany Martin     1/10/1998    Chemical Engineering   \n",
       "\n",
       "   Year of Admission  Expected Year of Graduation  Current Semester  \\\n",
       "0               2020                         2017                 3   \n",
       "1               2020                         2020                 2   \n",
       "2               2017                         2022                 1   \n",
       "3               2021                         2019                 1   \n",
       "4               2016                         2018                 1   \n",
       "\n",
       "     Specialization    Fees  Discount on Fees  \n",
       "0   Web Development  155152             19572  \n",
       "1  Machine Learning  157870             14760  \n",
       "2  Network Security   55662              5871  \n",
       "3      Data Science  134955             17284  \n",
       "4  Network Security  125934             14871  "
      ]
     },
     "execution_count": 2,
     "metadata": {},
     "output_type": "execute_result"
    }
   ],
   "source": [
    "df = pd.read_csv(\"/kaggle/input/it-student-dataset/IT Students Data.csv\")\n",
    "df.head()"
   ]
  },
  {
   "cell_type": "code",
   "execution_count": 3,
   "id": "dde58b0f",
   "metadata": {
    "execution": {
     "iopub.execute_input": "2023-07-30T10:14:32.326617Z",
     "iopub.status.busy": "2023-07-30T10:14:32.325852Z",
     "iopub.status.idle": "2023-07-30T10:14:32.341765Z",
     "shell.execute_reply": "2023-07-30T10:14:32.340450Z"
    },
    "papermill": {
     "duration": 0.024726,
     "end_time": "2023-07-30T10:14:32.344496",
     "exception": false,
     "start_time": "2023-07-30T10:14:32.319770",
     "status": "completed"
    },
    "tags": []
   },
   "outputs": [
    {
     "data": {
      "text/html": [
       "<div>\n",
       "<style scoped>\n",
       "    .dataframe tbody tr th:only-of-type {\n",
       "        vertical-align: middle;\n",
       "    }\n",
       "\n",
       "    .dataframe tbody tr th {\n",
       "        vertical-align: top;\n",
       "    }\n",
       "\n",
       "    .dataframe thead th {\n",
       "        text-align: right;\n",
       "    }\n",
       "</style>\n",
       "<table border=\"1\" class=\"dataframe\">\n",
       "  <thead>\n",
       "    <tr style=\"text-align: right;\">\n",
       "      <th></th>\n",
       "      <th>Fees</th>\n",
       "    </tr>\n",
       "  </thead>\n",
       "  <tbody>\n",
       "    <tr>\n",
       "      <th>0</th>\n",
       "      <td>155152</td>\n",
       "    </tr>\n",
       "    <tr>\n",
       "      <th>1</th>\n",
       "      <td>157870</td>\n",
       "    </tr>\n",
       "    <tr>\n",
       "      <th>2</th>\n",
       "      <td>55662</td>\n",
       "    </tr>\n",
       "    <tr>\n",
       "      <th>3</th>\n",
       "      <td>134955</td>\n",
       "    </tr>\n",
       "    <tr>\n",
       "      <th>4</th>\n",
       "      <td>125934</td>\n",
       "    </tr>\n",
       "  </tbody>\n",
       "</table>\n",
       "</div>"
      ],
      "text/plain": [
       "     Fees\n",
       "0  155152\n",
       "1  157870\n",
       "2   55662\n",
       "3  134955\n",
       "4  125934"
      ]
     },
     "execution_count": 3,
     "metadata": {},
     "output_type": "execute_result"
    }
   ],
   "source": [
    "features = [\"Fees\"]\n",
    "X_train = df[features]\n",
    "X_train.head()"
   ]
  },
  {
   "cell_type": "code",
   "execution_count": 4,
   "id": "cd1614e4",
   "metadata": {
    "execution": {
     "iopub.execute_input": "2023-07-30T10:14:32.356095Z",
     "iopub.status.busy": "2023-07-30T10:14:32.355711Z",
     "iopub.status.idle": "2023-07-30T10:14:32.363658Z",
     "shell.execute_reply": "2023-07-30T10:14:32.362703Z"
    },
    "papermill": {
     "duration": 0.016458,
     "end_time": "2023-07-30T10:14:32.365983",
     "exception": false,
     "start_time": "2023-07-30T10:14:32.349525",
     "status": "completed"
    },
    "tags": []
   },
   "outputs": [
    {
     "data": {
      "text/plain": [
       "0    19572\n",
       "1    14760\n",
       "2     5871\n",
       "3    17284\n",
       "4    14871\n",
       "Name: Discount on Fees, dtype: int64"
      ]
     },
     "execution_count": 4,
     "metadata": {},
     "output_type": "execute_result"
    }
   ],
   "source": [
    "target = \"Discount on Fees\"\n",
    "y_train = df[target]\n",
    "y_train.head()"
   ]
  },
  {
   "cell_type": "code",
   "execution_count": 5,
   "id": "5475695b",
   "metadata": {
    "execution": {
     "iopub.execute_input": "2023-07-30T10:14:32.377937Z",
     "iopub.status.busy": "2023-07-30T10:14:32.377561Z",
     "iopub.status.idle": "2023-07-30T10:14:32.385501Z",
     "shell.execute_reply": "2023-07-30T10:14:32.384518Z"
    },
    "papermill": {
     "duration": 0.016631,
     "end_time": "2023-07-30T10:14:32.387640",
     "exception": false,
     "start_time": "2023-07-30T10:14:32.371009",
     "status": "completed"
    },
    "tags": []
   },
   "outputs": [
    {
     "data": {
      "text/plain": [
       "12484.258575"
      ]
     },
     "execution_count": 5,
     "metadata": {},
     "output_type": "execute_result"
    }
   ],
   "source": [
    "y_mean = y_train.mean()\n",
    "y_mean"
   ]
  },
  {
   "cell_type": "code",
   "execution_count": 6,
   "id": "82ecc16e",
   "metadata": {
    "execution": {
     "iopub.execute_input": "2023-07-30T10:14:32.399674Z",
     "iopub.status.busy": "2023-07-30T10:14:32.398718Z",
     "iopub.status.idle": "2023-07-30T10:14:32.404489Z",
     "shell.execute_reply": "2023-07-30T10:14:32.403347Z"
    },
    "papermill": {
     "duration": 0.014076,
     "end_time": "2023-07-30T10:14:32.406659",
     "exception": false,
     "start_time": "2023-07-30T10:14:32.392583",
     "status": "completed"
    },
    "tags": []
   },
   "outputs": [],
   "source": [
    "y_pred_baseline = [y_mean] * len(y_train)"
   ]
  },
  {
   "cell_type": "code",
   "execution_count": 7,
   "id": "096d2daf",
   "metadata": {
    "execution": {
     "iopub.execute_input": "2023-07-30T10:14:32.418326Z",
     "iopub.status.busy": "2023-07-30T10:14:32.417940Z",
     "iopub.status.idle": "2023-07-30T10:14:35.984238Z",
     "shell.execute_reply": "2023-07-30T10:14:35.982965Z"
    },
    "papermill": {
     "duration": 3.574999,
     "end_time": "2023-07-30T10:14:35.986717",
     "exception": false,
     "start_time": "2023-07-30T10:14:32.411718",
     "status": "completed"
    },
    "tags": []
   },
   "outputs": [
    {
     "data": {
      "image/png": "[encoded data removed]",
      "text/plain": [
       "<Figure size 640x480 with 1 Axes>"
      ]
     },
     "metadata": {},
     "output_type": "display_data"
    }
   ],
   "source": [
    "plt.plot(X_train.values, y_pred_baseline, color=\"orange\", label=\"Baseline Model\")\n",
    "plt.scatter(X_train, y_train)\n",
    "plt.xlabel(\"Fees [USD]\")\n",
    "plt.ylabel(\"Discount on Fees [USD]\")\n",
    "plt.title(\"Field of Study: Fees vs. Discount on Fees\")\n",
    "plt.legend();"
   ]
  },
  {
   "cell_type": "code",
   "execution_count": 8,
   "id": "db1b4c55",
   "metadata": {
    "execution": {
     "iopub.execute_input": "2023-07-30T10:14:35.999963Z",
     "iopub.status.busy": "2023-07-30T10:14:35.999567Z",
     "iopub.status.idle": "2023-07-30T10:14:36.020394Z",
     "shell.execute_reply": "2023-07-30T10:14:36.018995Z"
    },
    "papermill": {
     "duration": 0.030163,
     "end_time": "2023-07-30T10:14:36.022612",
     "exception": false,
     "start_time": "2023-07-30T10:14:35.992449",
     "status": "completed"
    },
    "tags": []
   },
   "outputs": [
    {
     "name": "stdout",
     "output_type": "stream",
     "text": [
      "Mean apt price 12484.26\n",
      "Baseline MAE: 7215.98\n"
     ]
    }
   ],
   "source": [
    "mae_baseline = mean_absolute_error(y_train, y_pred_baseline)\n",
    "\n",
    "print(\"Mean apt price\", round(y_mean, 2))\n",
    "print(\"Baseline MAE:\", round(mae_baseline, 2))"
   ]
  },
  {
   "cell_type": "code",
   "execution_count": 9,
   "id": "1b9a4b50",
   "metadata": {
    "execution": {
     "iopub.execute_input": "2023-07-30T10:14:36.035957Z",
     "iopub.status.busy": "2023-07-30T10:14:36.035562Z",
     "iopub.status.idle": "2023-07-30T10:14:36.040511Z",
     "shell.execute_reply": "2023-07-30T10:14:36.039378Z"
    },
    "papermill": {
     "duration": 0.014333,
     "end_time": "2023-07-30T10:14:36.042826",
     "exception": false,
     "start_time": "2023-07-30T10:14:36.028493",
     "status": "completed"
    },
    "tags": []
   },
   "outputs": [],
   "source": [
    "model = LinearRegression()"
   ]
  },
  {
   "cell_type": "code",
   "execution_count": 10,
   "id": "b5465278",
   "metadata": {
    "execution": {
     "iopub.execute_input": "2023-07-30T10:14:36.056575Z",
     "iopub.status.busy": "2023-07-30T10:14:36.056172Z",
     "iopub.status.idle": "2023-07-30T10:14:36.093393Z",
     "shell.execute_reply": "2023-07-30T10:14:36.092197Z"
    },
    "papermill": {
     "duration": 0.046481,
     "end_time": "2023-07-30T10:14:36.095763",
     "exception": false,
     "start_time": "2023-07-30T10:14:36.049282",
     "status": "completed"
    },
    "tags": []
   },
   "outputs": [
    {
     "data": {
      "text/html": [
       "<style>#sk-container-id-1 {color: black;background-color: white;}#sk-container-id-1 pre{padding: 0;}#sk-container-id-1 div.sk-toggleable {background-color: white;}#sk-container-id-1 label.sk-toggleable__label {cursor: pointer;display: block;width: 100%;margin-bottom: 0;padding: 0.3em;box-sizing: border-box;text-align: center;}#sk-container-id-1 label.sk-toggleable__label-arrow:before {content: \"▸\";float: left;margin-right: 0.25em;color: #696969;}#sk-container-id-1 label.sk-toggleable__label-arrow:hover:before {color: black;}#sk-container-id-1 div.sk-estimator:hover label.sk-toggleable__label-arrow:before {color: black;}#sk-container-id-1 div.sk-toggleable__content {max-height: 0;max-width: 0;overflow: hidden;text-align: left;background-color: #f0f8ff;}#sk-container-id-1 div.sk-toggleable__content pre {margin: 0.2em;color: black;border-radius: 0.25em;background-color: #f0f8ff;}#sk-container-id-1 input.sk-toggleable__control:checked~div.sk-toggleable__content {max-height: 200px;max-width: 100%;overflow: auto;}#sk-container-id-1 input.sk-toggleable__control:checked~label.sk-toggleable__label-arrow:before {content: \"▾\";}#sk-container-id-1 div.sk-estimator input.sk-toggleable__control:checked~label.sk-toggleable__label {background-color: #d4ebff;}#sk-container-id-1 div.sk-label input.sk-toggleable__control:checked~label.sk-toggleable__label {background-color: #d4ebff;}#sk-container-id-1 input.sk-hidden--visually {border: 0;clip: rect(1px 1px 1px 1px);clip: rect(1px, 1px, 1px, 1px);height: 1px;margin: -1px;overflow: hidden;padding: 0;position: absolute;width: 1px;}#sk-container-id-1 div.sk-estimator {font-family: monospace;background-color: #f0f8ff;border: 1px dotted black;border-radius: 0.25em;box-sizing: border-box;margin-bottom: 0.5em;}#sk-container-id-1 div.sk-estimator:hover {background-color: #d4ebff;}#sk-container-id-1 div.sk-parallel-item::after {content: \"\";width: 100%;border-bottom: 1px solid gray;flex-grow: 1;}#sk-container-id-1 div.sk-label:hover label.sk-toggleable__label {background-color: #d4ebff;}#sk-container-id-1 div.sk-serial::before {content: \"\";position: absolute;border-left: 1px solid gray;box-sizing: border-box;top: 0;bottom: 0;left: 50%;z-index: 0;}#sk-container-id-1 div.sk-serial {display: flex;flex-direction: column;align-items: center;background-color: white;padding-right: 0.2em;padding-left: 0.2em;position: relative;}#sk-container-id-1 div.sk-item {position: relative;z-index: 1;}#sk-container-id-1 div.sk-parallel {display: flex;align-items: stretch;justify-content: center;background-color: white;position: relative;}#sk-container-id-1 div.sk-item::before, #sk-container-id-1 div.sk-parallel-item::before {content: \"\";position: absolute;border-left: 1px solid gray;box-sizing: border-box;top: 0;bottom: 0;left: 50%;z-index: -1;}#sk-container-id-1 div.sk-parallel-item {display: flex;flex-direction: column;z-index: 1;position: relative;background-color: white;}#sk-container-id-1 div.sk-parallel-item:first-child::after {align-self: flex-end;width: 50%;}#sk-container-id-1 div.sk-parallel-item:last-child::after {align-self: flex-start;width: 50%;}#sk-container-id-1 div.sk-parallel-item:only-child::after {width: 0;}#sk-container-id-1 div.sk-dashed-wrapped {border: 1px dashed gray;margin: 0 0.4em 0.5em 0.4em;box-sizing: border-box;padding-bottom: 0.4em;background-color: white;}#sk-container-id-1 div.sk-label label {font-family: monospace;font-weight: bold;display: inline-block;line-height: 1.2em;}#sk-container-id-1 div.sk-label-container {text-align: center;}#sk-container-id-1 div.sk-container {/* jupyter's `normalize.less` sets `[hidden] { display: none; }` but bootstrap.min.css set `[hidden] { display: none !important; }` so we also need the `!important` here to be able to override the default hidden behavior on the sphinx rendered scikit-learn.org. See: https://github.com/scikit-learn/scikit-learn/issues/21755 */display: inline-block !important;position: relative;}#sk-container-id-1 div.sk-text-repr-fallback {display: none;}</style><div id=\"sk-container-id-1\" class=\"sk-top-container\"><div class=\"sk-text-repr-fallback\"><pre>LinearRegression()</pre><b>In a Jupyter environment, please rerun this cell to show the HTML representation or trust the notebook. <br />On GitHub, the HTML representation is unable to render, please try loading this page with nbviewer.org.</b></div><div class=\"sk-container\" hidden><div class=\"sk-item\"><div class=\"sk-estimator sk-toggleable\"><input class=\"sk-toggleable__control sk-hidden--visually\" id=\"sk-estimator-id-1\" type=\"checkbox\" checked><label for=\"sk-estimator-id-1\" class=\"sk-toggleable__label sk-toggleable__label-arrow\">LinearRegression</label><div class=\"sk-toggleable__content\"><pre>LinearRegression()</pre></div></div></div></div></div>"
      ],
      "text/plain": [
       "LinearRegression()"
      ]
     },
     "execution_count": 10,
     "metadata": {},
     "output_type": "execute_result"
    }
   ],
   "source": [
    "model.fit(X_train, y_train)"
   ]
  },
  {
   "cell_type": "code",
   "execution_count": 11,
   "id": "86d6b7c7",
   "metadata": {
    "execution": {
     "iopub.execute_input": "2023-07-30T10:14:36.111595Z",
     "iopub.status.busy": "2023-07-30T10:14:36.110456Z",
     "iopub.status.idle": "2023-07-30T10:14:36.121645Z",
     "shell.execute_reply": "2023-07-30T10:14:36.120453Z"
    },
    "papermill": {
     "duration": 0.020801,
     "end_time": "2023-07-30T10:14:36.124048",
     "exception": false,
     "start_time": "2023-07-30T10:14:36.103247",
     "status": "completed"
    },
    "tags": []
   },
   "outputs": [
    {
     "data": {
      "text/plain": [
       "array([15477.92318917, 15748.61546658,  5569.47040078, 13466.45448913,\n",
       "       12568.03100331, 13135.60837231])"
      ]
     },
     "execution_count": 11,
     "metadata": {},
     "output_type": "execute_result"
    }
   ],
   "source": [
    "y_pred_training = model.predict(X_train)\n",
    "y_pred_training[:6]"
   ]
  },
  {
   "cell_type": "code",
   "execution_count": 12,
   "id": "cdf9858d",
   "metadata": {
    "execution": {
     "iopub.execute_input": "2023-07-30T10:14:36.137797Z",
     "iopub.status.busy": "2023-07-30T10:14:36.137413Z",
     "iopub.status.idle": "2023-07-30T10:14:36.144805Z",
     "shell.execute_reply": "2023-07-30T10:14:36.143946Z"
    },
    "papermill": {
     "duration": 0.016774,
     "end_time": "2023-07-30T10:14:36.146869",
     "exception": false,
     "start_time": "2023-07-30T10:14:36.130095",
     "status": "completed"
    },
    "tags": []
   },
   "outputs": [
    {
     "name": "stdout",
     "output_type": "stream",
     "text": [
      "Training MAE: 6271.19\n"
     ]
    }
   ],
   "source": [
    "mae_training = mean_absolute_error(y_train, y_pred_training)\n",
    "print(\"Training MAE:\", round(mae_training, 2))"
   ]
  },
  {
   "cell_type": "code",
   "execution_count": 13,
   "id": "e0aeee89",
   "metadata": {
    "execution": {
     "iopub.execute_input": "2023-07-30T10:14:36.161583Z",
     "iopub.status.busy": "2023-07-30T10:14:36.160560Z",
     "iopub.status.idle": "2023-07-30T10:14:36.166189Z",
     "shell.execute_reply": "2023-07-30T10:14:36.164995Z"
    },
    "papermill": {
     "duration": 0.015321,
     "end_time": "2023-07-30T10:14:36.168452",
     "exception": false,
     "start_time": "2023-07-30T10:14:36.153131",
     "status": "completed"
    },
    "tags": []
   },
   "outputs": [
    {
     "name": "stdout",
     "output_type": "stream",
     "text": [
      "Model Intercept: 25.96\n"
     ]
    }
   ],
   "source": [
    "intercept = round(model.intercept_, 2)\n",
    "print(\"Model Intercept:\", intercept)"
   ]
  },
  {
   "cell_type": "code",
   "execution_count": 14,
   "id": "8bc01909",
   "metadata": {
    "execution": {
     "iopub.execute_input": "2023-07-30T10:14:36.183496Z",
     "iopub.status.busy": "2023-07-30T10:14:36.182778Z",
     "iopub.status.idle": "2023-07-30T10:14:36.188107Z",
     "shell.execute_reply": "2023-07-30T10:14:36.187057Z"
    },
    "papermill": {
     "duration": 0.014865,
     "end_time": "2023-07-30T10:14:36.190093",
     "exception": false,
     "start_time": "2023-07-30T10:14:36.175228",
     "status": "completed"
    },
    "tags": []
   },
   "outputs": [
    {
     "name": "stdout",
     "output_type": "stream",
     "text": [
      "Model coefficient for \"Fees and Discount of Fees\": 0.1\n"
     ]
    }
   ],
   "source": [
    "coefficient = round(model.coef_[0], 2)\n",
    "print('Model coefficient for \"Fees and Discount of Fees\":', coefficient)"
   ]
  },
  {
   "cell_type": "code",
   "execution_count": 15,
   "id": "65fedb73",
   "metadata": {
    "execution": {
     "iopub.execute_input": "2023-07-30T10:14:36.204533Z",
     "iopub.status.busy": "2023-07-30T10:14:36.204158Z",
     "iopub.status.idle": "2023-07-30T10:14:36.210281Z",
     "shell.execute_reply": "2023-07-30T10:14:36.208848Z"
    },
    "papermill": {
     "duration": 0.015845,
     "end_time": "2023-07-30T10:14:36.212303",
     "exception": false,
     "start_time": "2023-07-30T10:14:36.196458",
     "status": "completed"
    },
    "tags": []
   },
   "outputs": [
    {
     "name": "stdout",
     "output_type": "stream",
     "text": [
      "apt_price = 25.96 + 0.1 * surface_covered\n"
     ]
    }
   ],
   "source": [
    "print(f\"apt_price = {intercept} + {coefficient} * surface_covered\")"
   ]
  },
  {
   "cell_type": "code",
   "execution_count": 16,
   "id": "60abced8",
   "metadata": {
    "execution": {
     "iopub.execute_input": "2023-07-30T10:14:36.227009Z",
     "iopub.status.busy": "2023-07-30T10:14:36.226294Z",
     "iopub.status.idle": "2023-07-30T10:14:39.596919Z",
     "shell.execute_reply": "2023-07-30T10:14:39.595799Z"
    },
    "papermill": {
     "duration": 3.38077,
     "end_time": "2023-07-30T10:14:39.599403",
     "exception": false,
     "start_time": "2023-07-30T10:14:36.218633",
     "status": "completed"
    },
    "tags": []
   },
   "outputs": [
    {
     "data": {
      "image/png": "[encoded data removed]",
      "text/plain": [
       "<Figure size 640x480 with 1 Axes>"
      ]
     },
     "metadata": {},
     "output_type": "display_data"
    }
   ],
   "source": [
    "plt.plot(X_train.values, model.predict(X_train), color=\"red\", label = \"Linear Model\")\n",
    "plt.scatter(X_train, y_train)\n",
    "plt.xlabel(\"Fees [USD]\")\n",
    "plt.ylabel(\"Discount on Fees [USD]\")\n",
    "plt.legend();"
   ]
  }
 ],
 "metadata": {
  "kernelspec": {
   "display_name": "Python 3",
   "language": "python",
   "name": "python3"
  },
  "language_info": {
   "codemirror_mode": {
    "name": "ipython",
    "version": 3
   },
   "file_extension": ".py",
   "mimetype": "text/x-python",
   "name": "python",
   "nbconvert_exporter": "python",
   "pygments_lexer": "ipython3",
   "version": "3.10.12"
  },
  "papermill": {
   "default_parameters": {},
   "duration": 20.061324,
   "end_time": "2023-07-30T10:14:40.629096",
   "environment_variables": {},
   "exception": null,
   "input_path": "__notebook__.ipynb",
   "output_path": "__notebook__.ipynb",
   "parameters": {},
   "start_time": "2023-07-30T10:14:20.567772",
   "version": "2.4.0"
  }
 },
 "nbformat": 4,
 "nbformat_minor": 5
}
